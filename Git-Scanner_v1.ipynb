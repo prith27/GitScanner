{
 "cells": [
  {
   "cell_type": "code",
   "execution_count": 18,
   "id": "9a813dd6-0734-4138-b975-f2c35ad47105",
   "metadata": {},
   "outputs": [],
   "source": [
    "import os\n",
    "import requests\n",
    "import openai\n",
    "import gradio as gr\n",
    "from git import Repo\n",
    "import shutil"
   ]
  },
  {
   "cell_type": "code",
   "execution_count": 19,
   "id": "98be7b94-4879-4167-81b4-577357ec2f72",
   "metadata": {},
   "outputs": [],
   "source": [
    "openai.api_key = os.getenv(\"OPENAI_API_KEY\")"
   ]
  },
  {
   "cell_type": "code",
   "execution_count": 20,
   "id": "4accf674-be46-4bbc-9fae-a7de488a67c6",
   "metadata": {},
   "outputs": [],
   "source": [
    "# Function to validate GitHub repo and check if public\n",
    "def is_valid_public_repo(repo_url):\n",
    "    try:\n",
    "        # Extract owner and repo name from the URL\n",
    "        parts = repo_url.rstrip(\"/\").split(\"/\")\n",
    "        owner, repo_name = parts[-2], parts[-1]\n",
    "        api_url = f\"https://api.github.com/repos/{owner}/{repo_name}\"\n",
    "        \n",
    "        # Make GitHub API request\n",
    "        response = requests.get(api_url)\n",
    "        if response.status_code == 200:\n",
    "            repo_info = response.json()\n",
    "            if not repo_info.get(\"private\"):\n",
    "                return True, owner, repo_name\n",
    "        return False, None, None\n",
    "    except Exception as e:\n",
    "        print(f\"Error validating repo: {e}\")\n",
    "        return False, None, None"
   ]
  },
  {
   "cell_type": "code",
   "execution_count": 21,
   "id": "af5d5c07-ebd2-4790-aa58-8b20c7a16a7b",
   "metadata": {},
   "outputs": [],
   "source": [
    "# Function to clone the GitHub repo locally\n",
    "def clone_repo(owner, repo_name):\n",
    "    repo_url = f\"https://github.com/{owner}/{repo_name}.git\"\n",
    "    clone_dir = f\"./temp_repo/{repo_name}\"\n",
    "    try:\n",
    "        if os.path.exists(clone_dir):\n",
    "            shutil.rmtree(clone_dir)  # Clean up if directory already exists\n",
    "        Repo.clone_from(repo_url, clone_dir)\n",
    "        return clone_dir\n",
    "    except Exception as e:\n",
    "        print(f\"Error cloning repo: {e}\")\n",
    "        return None\n"
   ]
  },
  {
   "cell_type": "code",
   "execution_count": 28,
   "id": "a1c32acb-2067-42a6-910e-175e512ad3c9",
   "metadata": {},
   "outputs": [],
   "source": [
    "# Function to analyze a code file and suggest comments using GPT-4\n",
    "def suggest_comments_for_file(file_path):\n",
    "    try:\n",
    "        with open(file_path, \"r\", encoding=\"utf-8\") as f:\n",
    "            code = f.read()\n",
    "        \n",
    "        # Prompt for GPT-4\n",
    "        prompt = f\"Analyze the following code and suggest comments/docstrings:\\n{code}\"\n",
    "        response = openai.chat.completions.create(\n",
    "            model=\"gpt-4\",\n",
    "            messages=[{\"role\": \"user\", \"content\": prompt}]\n",
    "        )\n",
    "        comments = response.choices[0].message.content\n",
    "        return comments\n",
    "    except Exception as e:\n",
    "        print(f\"Error analyzing file {file_path}: {e}\")\n",
    "        return None"
   ]
  },
  {
   "cell_type": "code",
   "execution_count": 29,
   "id": "51bc09d4-f20f-450f-8c20-b9d9201dc3e2",
   "metadata": {},
   "outputs": [],
   "source": [
    "def process_repo(repo_url):\n",
    "    is_valid, owner, repo_name = is_valid_public_repo(repo_url)\n",
    "    if not is_valid:\n",
    "        return \"Invalid or private repository. Please provide a valid public GitHub repo link.\"\n",
    "    \n",
    "    # Clone repo\n",
    "    repo_path = clone_repo(owner, repo_name)\n",
    "    if not repo_path:\n",
    "        return \"Failed to clone the repository.\"\n",
    "    \n",
    "    # Process code files\n",
    "    suggestions = {}\n",
    "    for root, _, files in os.walk(repo_path):\n",
    "        for file in files:\n",
    "            if file.endswith((\".py\", \".js\", \".java\")):  # Add more extensions as needed\n",
    "                file_path = os.path.join(root, file)\n",
    "                comments = suggest_comments_for_file(file_path)\n",
    "                if comments:\n",
    "                    suggestions[file] = comments\n",
    "\n",
    "    # Clean up cloned repo\n",
    "    shutil.rmtree(repo_path)\n",
    "\n",
    "    # Format and return suggestions\n",
    "    if suggestions:\n",
    "        result = \"\\n\\n\".join([f\"File: {file}\\n{comments}\" for file, comments in suggestions.items()])\n",
    "        return result\n",
    "    else:\n",
    "        return \"No comments or docstrings were suggested for the files in the repository.\""
   ]
  },
  {
   "cell_type": "code",
   "execution_count": 30,
   "id": "619ac262-44b8-4600-9ae2-6e48579a7d60",
   "metadata": {},
   "outputs": [],
   "source": [
    "# Gradio UI\n",
    "def main(repo_url):\n",
    "    return process_repo(repo_url)"
   ]
  },
  {
   "cell_type": "code",
   "execution_count": 31,
   "id": "85917ffc-26c9-411e-b741-e2aff2be48c5",
   "metadata": {},
   "outputs": [],
   "source": [
    "ui = gr.Interface(\n",
    "    fn=main,\n",
    "    inputs=gr.Textbox(label=\"GitHub Repository Link\", placeholder=\"Enter public GitHub repo link here...\"),\n",
    "    outputs=gr.Textbox(label=\"Suggested Comments/Docstrings\"),\n",
    "    title=\"GitHub Repo Code Commenting Tool\",\n",
    "    description=\"Enter a public GitHub repository link. The tool will analyze the code and suggest comments/docstrings for the files in the repository.\"\n",
    ")"
   ]
  },
  {
   "cell_type": "code",
   "execution_count": 32,
   "id": "d89225d8-453f-4305-bea8-8f64037f00ed",
   "metadata": {},
   "outputs": [
    {
     "name": "stdout",
     "output_type": "stream",
     "text": [
      "* Running on local URL:  http://127.0.0.1:7861\n",
      "\n",
      "To create a public link, set `share=True` in `launch()`.\n"
     ]
    },
    {
     "data": {
      "text/html": [
       "<div><iframe src=\"http://127.0.0.1:7861/\" width=\"100%\" height=\"500\" allow=\"autoplay; camera; microphone; clipboard-read; clipboard-write;\" frameborder=\"0\" allowfullscreen></iframe></div>"
      ],
      "text/plain": [
       "<IPython.core.display.HTML object>"
      ]
     },
     "metadata": {},
     "output_type": "display_data"
    }
   ],
   "source": [
    "# Launch the Gradio app\n",
    "if __name__ == \"__main__\":\n",
    "    ui.launch()"
   ]
  },
  {
   "cell_type": "code",
   "execution_count": 33,
   "id": "026e582b-616d-471d-8324-4db29353cf74",
   "metadata": {},
   "outputs": [
    {
     "name": "stdout",
     "output_type": "stream",
     "text": [
      "Closing server running on port: 7861\n"
     ]
    }
   ],
   "source": [
    "ui.close()"
   ]
  }
 ],
 "metadata": {
  "kernelspec": {
   "display_name": "Python 3 (ipykernel)",
   "language": "python",
   "name": "python3"
  },
  "language_info": {
   "codemirror_mode": {
    "name": "ipython",
    "version": 3
   },
   "file_extension": ".py",
   "mimetype": "text/x-python",
   "name": "python",
   "nbconvert_exporter": "python",
   "pygments_lexer": "ipython3",
   "version": "3.11.2"
  }
 },
 "nbformat": 4,
 "nbformat_minor": 5
}
